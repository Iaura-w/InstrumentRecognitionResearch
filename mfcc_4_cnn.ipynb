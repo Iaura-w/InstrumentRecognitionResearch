{
 "cells": [
  {
   "cell_type": "code",
   "execution_count": 1,
   "id": "eecef9f8-8879-47be-845f-1ae835a83106",
   "metadata": {},
   "outputs": [],
   "source": [
    "# import sys\n",
    "# !{sys.executable} -m pip install librosa\n",
    "# !{sys.executable} -m pip install numpy\n",
    "# !{sys.executable} -m pip install pandas\n",
    "# !{sys.executable} -m pip install matplotlib\n",
    "# !{sys.executable} -m pip install tensorflow\n",
    "# !{sys.executable} -m pip install scikeras"
   ]
  },
  {
   "cell_type": "code",
   "execution_count": 2,
   "id": "0d3571c6-6ab1-4cde-a4ec-1395598a6bf6",
   "metadata": {},
   "outputs": [],
   "source": [
    "import os\n",
    "import librosa\n",
    "import numpy as np\n",
    "import matplotlib.pyplot as plt\n",
    "import pandas as pd"
   ]
  },
  {
   "cell_type": "code",
   "execution_count": 3,
   "id": "6f27eeb3-e7c4-4fd8-ba62-c462cc563a10",
   "metadata": {},
   "outputs": [],
   "source": [
    "data = np.load('X_data_mfcc_instruments_2.npy')\n",
    "labels = np.load('y_data_mfcc_instruments_2.npy')"
   ]
  },
  {
   "cell_type": "code",
   "execution_count": 4,
   "id": "f74379ff-9fc7-47b5-8e39-bec4c67cb0ca",
   "metadata": {},
   "outputs": [
    {
     "data": {
      "text/plain": [
       "(2326, 259, 20)"
      ]
     },
     "execution_count": 4,
     "metadata": {},
     "output_type": "execute_result"
    }
   ],
   "source": [
    "data.shape"
   ]
  },
  {
   "cell_type": "code",
   "execution_count": 5,
   "id": "b937aa3d-90a5-4883-b429-42a1d67440c9",
   "metadata": {},
   "outputs": [
    {
     "data": {
      "text/plain": [
       "(2326,)"
      ]
     },
     "execution_count": 5,
     "metadata": {},
     "output_type": "execute_result"
    }
   ],
   "source": [
    "labels.shape"
   ]
  },
  {
   "cell_type": "code",
   "execution_count": 6,
   "id": "929e3f33-5344-46b6-80a0-bd093c8d1055",
   "metadata": {},
   "outputs": [
    {
     "data": {
      "text/plain": [
       "array([[[-3.5279758e+02,  1.4267026e+02,  1.2729576e+01, ...,\n",
       "          1.3398612e+01,  1.2357083e+01,  6.8404837e+00],\n",
       "        [-3.9222095e+02,  1.6613428e+02,  1.2672653e+01, ...,\n",
       "          1.0978334e+01,  1.2699558e+01,  1.0341391e+01],\n",
       "        [-4.6669827e+02,  2.1542868e+02,  1.0249859e+01, ...,\n",
       "          8.5432148e+00,  1.1446810e+01,  1.4004631e+01],\n",
       "        ...,\n",
       "        [-4.0371115e+02,  2.4518118e+02, -7.7565581e-01, ...,\n",
       "          7.2429454e-01,  2.1521106e+00, -3.5039546e+00],\n",
       "        [-3.8886307e+02,  2.3748221e+02,  5.1371851e+00, ...,\n",
       "         -1.0515672e+00, -3.2681460e+00, -3.4180870e+00],\n",
       "        [-3.3814093e+02,  1.8369177e+02,  2.1141911e+01, ...,\n",
       "          2.9324210e+00,  1.0760670e+00, -6.1945862e-01]],\n",
       "\n",
       "       [[-4.1614960e+02,  2.0125418e+02, -1.0407936e+01, ...,\n",
       "          5.5178499e+00,  3.4885254e+00, -2.1165574e+00],\n",
       "        [-3.8257022e+02,  2.2565298e+02, -1.7288475e+01, ...,\n",
       "          2.6512313e+00, -7.5089347e-01, -2.0109739e+00],\n",
       "        [-3.8295926e+02,  2.2846326e+02, -1.6086330e+01, ...,\n",
       "          2.5264618e+00, -8.0146074e+00, -7.0277214e+00],\n",
       "        ...,\n",
       "        [-4.6511002e+02,  2.1176163e+02,  1.8544334e+01, ...,\n",
       "         -9.0163765e+00, -8.4838238e+00, -4.8345556e+00],\n",
       "        [-4.6477664e+02,  2.0915314e+02,  1.7199268e+01, ...,\n",
       "         -5.5947995e+00, -8.1703978e+00, -6.5680504e+00],\n",
       "        [-4.2871732e+02,  1.8416237e+02,  1.7103649e+01, ...,\n",
       "         -3.7080150e+00, -6.8096266e+00, -8.5576925e+00]],\n",
       "\n",
       "       [[-3.2623141e+02,  1.6226012e+02,  1.5948957e+01, ...,\n",
       "         -5.2945695e+00, -8.7393570e-01,  1.7780869e+00],\n",
       "        [-3.5867236e+02,  1.9886729e+02,  2.8117676e+01, ...,\n",
       "         -9.2812042e+00, -5.4798727e+00,  7.7440280e-01],\n",
       "        [-4.3177914e+02,  2.5613742e+02,  4.8086151e+01, ...,\n",
       "         -6.5391059e+00, -8.8845224e+00, -3.1434386e+00],\n",
       "        ...,\n",
       "        [-4.1654916e+02,  2.5729871e+02,  3.0161671e+01, ...,\n",
       "          1.7170784e+00,  2.8979087e+00,  5.4204731e+00],\n",
       "        [-3.7727802e+02,  2.2219608e+02,  2.6755680e+01, ...,\n",
       "          6.3828125e+00,  8.2752857e+00,  7.0330100e+00],\n",
       "        [-3.0187766e+02,  1.6400641e+02,  2.6887543e+01, ...,\n",
       "         -2.2315061e-01,  2.9107323e+00,  4.6155062e+00]],\n",
       "\n",
       "       ...,\n",
       "\n",
       "       [[-3.5443167e+02,  1.6473392e+02,  8.5395145e+00, ...,\n",
       "          4.8464708e+00, -4.4620762e+00, -1.1398151e+01],\n",
       "        [-3.5120551e+02,  1.8760406e+02, -1.4776788e+00, ...,\n",
       "          3.9685009e+00, -3.2514038e+00, -8.7547684e+00],\n",
       "        [-3.6316116e+02,  1.9559885e+02, -1.4640253e+01, ...,\n",
       "         -1.9172913e-01, -2.3428793e+00, -9.0802317e+00],\n",
       "        ...,\n",
       "        [-2.6537903e+02,  1.6004144e+02, -3.3419754e+01, ...,\n",
       "         -3.7233903e+00, -4.1300148e-02, -6.3651667e+00],\n",
       "        [-2.7748621e+02,  1.7431705e+02, -3.6048927e+01, ...,\n",
       "          3.2931659e+00, -2.2986543e-01, -6.4421840e+00],\n",
       "        [-2.9063953e+02,  1.8504285e+02, -3.6778313e+01, ...,\n",
       "          1.3545026e+00, -1.3588300e+00, -5.7136626e+00]],\n",
       "\n",
       "       [[-3.1862381e+02,  1.6721408e+02,  3.3231890e+00, ...,\n",
       "         -1.0247755e+01, -2.1068358e+00, -6.5246863e+00],\n",
       "        [-3.0229953e+02,  1.7556610e+02, -1.0415894e+01, ...,\n",
       "         -5.4670334e+00,  3.5161805e+00, -3.0055892e+00],\n",
       "        [-3.1052411e+02,  1.7863016e+02, -2.2750185e+01, ...,\n",
       "          1.2392379e+00,  4.5945368e+00, -4.2814364e+00],\n",
       "        ...,\n",
       "        [-3.5573279e+02,  2.0702739e+02, -1.3033825e+01, ...,\n",
       "          3.4250462e+00,  2.4577413e+00, -2.0553427e+00],\n",
       "        [-3.3955695e+02,  1.9021748e+02,  2.1983984e+00, ...,\n",
       "          1.6827443e+00,  3.6689118e-01, -2.7629640e+00],\n",
       "        [-2.9097043e+02,  1.4909183e+02,  1.8302448e+01, ...,\n",
       "         -2.9168532e+00,  1.8323573e+00,  1.9638405e+00]],\n",
       "\n",
       "       [[-3.1112585e+02,  1.8027188e+02,  6.4539671e+00, ...,\n",
       "         -1.0792671e+01,  5.6396735e-01,  8.7973557e+00],\n",
       "        [-3.0603809e+02,  2.0319484e+02, -1.9975283e+00, ...,\n",
       "         -9.9091225e+00, -1.6761858e+00,  2.7839179e+00],\n",
       "        [-3.2160071e+02,  2.1661069e+02, -1.6365356e+01, ...,\n",
       "         -9.2638464e+00,  1.0424523e+00,  2.9045022e-01],\n",
       "        ...,\n",
       "        [-3.3694040e+02,  2.1950703e+02,  2.5092451e+01, ...,\n",
       "          6.7919588e+00,  3.3605897e+00,  5.4233313e-01],\n",
       "        [-3.4318787e+02,  2.2274707e+02,  2.7586304e+01, ...,\n",
       "          3.7762268e+00,  6.6083622e-01,  5.2017255e+00],\n",
       "        [-3.2912915e+02,  2.0214240e+02,  3.7619179e+01, ...,\n",
       "          3.7404857e+00, -6.0690641e-03,  7.4833374e+00]]], dtype=float32)"
      ]
     },
     "execution_count": 6,
     "metadata": {},
     "output_type": "execute_result"
    }
   ],
   "source": [
    "data"
   ]
  },
  {
   "cell_type": "code",
   "execution_count": 7,
   "id": "63f9caa6-ad26-48df-89b2-f0e6bed5ea76",
   "metadata": {},
   "outputs": [
    {
     "data": {
      "text/plain": [
       "array(['piano', 'piano', 'piano', ..., 'cello', 'cello', 'cello'],\n",
       "      dtype='<U15')"
      ]
     },
     "execution_count": 7,
     "metadata": {},
     "output_type": "execute_result"
    }
   ],
   "source": [
    "labels"
   ]
  },
  {
   "cell_type": "code",
   "execution_count": 8,
   "id": "a21ebeeb-ac06-44d4-8d8e-bdcb7abc3908",
   "metadata": {},
   "outputs": [],
   "source": [
    "from sklearn.model_selection import train_test_split\n",
    "\n",
    "X_train, X_test, y_train, y_test = train_test_split(data, labels, test_size=0.2, random_state=42)"
   ]
  },
  {
   "cell_type": "code",
   "execution_count": 9,
   "id": "04a61a2c-829c-45bc-842e-3bc25d1045f0",
   "metadata": {},
   "outputs": [
    {
     "data": {
      "text/plain": [
       "(1860, 259, 20)"
      ]
     },
     "execution_count": 9,
     "metadata": {},
     "output_type": "execute_result"
    }
   ],
   "source": [
    "X_train.shape"
   ]
  },
  {
   "cell_type": "code",
   "execution_count": 10,
   "id": "a2a4b05e-1676-45d0-aa6e-26a55135c6c2",
   "metadata": {},
   "outputs": [
    {
     "data": {
      "text/plain": [
       "(1860,)"
      ]
     },
     "execution_count": 10,
     "metadata": {},
     "output_type": "execute_result"
    }
   ],
   "source": [
    "y_train.shape"
   ]
  },
  {
   "cell_type": "code",
   "execution_count": 11,
   "id": "bd7519df-c487-480b-814e-e19537081d54",
   "metadata": {},
   "outputs": [
    {
     "data": {
      "text/plain": [
       "(466, 259, 20)"
      ]
     },
     "execution_count": 11,
     "metadata": {},
     "output_type": "execute_result"
    }
   ],
   "source": [
    "X_test.shape"
   ]
  },
  {
   "cell_type": "code",
   "execution_count": 12,
   "id": "fb189843-f0aa-449b-aadb-7b2fe155b93c",
   "metadata": {},
   "outputs": [
    {
     "data": {
      "text/plain": [
       "array(['piano', 'violin', 'violin', ..., 'violin', 'violin', 'violin'],\n",
       "      dtype='<U15')"
      ]
     },
     "execution_count": 12,
     "metadata": {},
     "output_type": "execute_result"
    }
   ],
   "source": [
    "y_train"
   ]
  },
  {
   "cell_type": "code",
   "execution_count": 13,
   "id": "6225fb3f-2bab-4c0d-b810-0f17baf4be0b",
   "metadata": {},
   "outputs": [],
   "source": [
    "from sklearn.preprocessing import LabelEncoder\n",
    "\n",
    "label_encoder = LabelEncoder()\n",
    "labels_enc = label_encoder.fit(y_train)"
   ]
  },
  {
   "cell_type": "code",
   "execution_count": 14,
   "id": "cc8b8b4f-17cc-4817-88b3-a2bc344283e7",
   "metadata": {},
   "outputs": [
    {
     "data": {
      "text/plain": [
       "array(['acoustic_guitar', 'cello', 'piano', 'violin'], dtype='<U15')"
      ]
     },
     "execution_count": 14,
     "metadata": {},
     "output_type": "execute_result"
    }
   ],
   "source": [
    "label_encoder.classes_"
   ]
  },
  {
   "cell_type": "code",
   "execution_count": 15,
   "id": "6d6f5a8d-7258-475b-8eac-6823a8d0a9ca",
   "metadata": {},
   "outputs": [],
   "source": [
    "y_train = label_encoder.transform(y_train)\n",
    "y_test = label_encoder.fit_transform(y_test)"
   ]
  },
  {
   "cell_type": "code",
   "execution_count": 16,
   "id": "757704ba-a4b8-4faa-8f46-fba1eeac4077",
   "metadata": {},
   "outputs": [
    {
     "data": {
      "text/plain": [
       "array([2, 3, 3, ..., 3, 3, 3])"
      ]
     },
     "execution_count": 16,
     "metadata": {},
     "output_type": "execute_result"
    }
   ],
   "source": [
    "y_train"
   ]
  },
  {
   "cell_type": "code",
   "execution_count": 17,
   "id": "f55a4c30-0409-43d2-8742-8309495397e6",
   "metadata": {},
   "outputs": [
    {
     "data": {
      "text/plain": [
       "array([2, 3, 3, ..., 3, 3, 3])"
      ]
     },
     "execution_count": 17,
     "metadata": {},
     "output_type": "execute_result"
    }
   ],
   "source": [
    "y_train"
   ]
  },
  {
   "cell_type": "code",
   "execution_count": 18,
   "id": "e97a0926-573a-4f86-b3b2-1ab777407b79",
   "metadata": {},
   "outputs": [
    {
     "data": {
      "text/plain": [
       "array(['acoustic_guitar', 'cello', 'piano', 'violin'], dtype='<U15')"
      ]
     },
     "execution_count": 18,
     "metadata": {},
     "output_type": "execute_result"
    }
   ],
   "source": [
    "label_encoder.classes_"
   ]
  },
  {
   "cell_type": "code",
   "execution_count": 19,
   "id": "54589edc-4a89-4e94-8b44-bbb99570d6a8",
   "metadata": {},
   "outputs": [
    {
     "data": {
      "text/plain": [
       "4"
      ]
     },
     "execution_count": 19,
     "metadata": {},
     "output_type": "execute_result"
    }
   ],
   "source": [
    "num_labels = len(label_encoder.classes_)\n",
    "num_labels"
   ]
  },
  {
   "cell_type": "code",
   "execution_count": 20,
   "id": "f35657e3-6af3-4143-94c9-c165b1c46bbb",
   "metadata": {},
   "outputs": [
    {
     "data": {
      "text/plain": [
       "array([[-289.9158   ,  188.5745   ,    5.556422 , ...,    1.1980944,\n",
       "           3.6273947,   -2.3368556],\n",
       "       [-314.95203  ,  215.23651  ,    3.4175532, ...,   -3.321484 ,\n",
       "          -1.3101406,   -1.4105959],\n",
       "       [-352.4068   ,  230.32417  ,   -2.755798 , ...,   -6.6914387,\n",
       "          -6.5798097,   -2.3512344],\n",
       "       ...,\n",
       "       [-371.91693  ,  227.44617  ,   -6.9236164, ...,  -12.45657  ,\n",
       "         -18.323086 ,   -4.857051 ],\n",
       "       [-365.69025  ,  226.56859  ,   -9.299293 , ...,  -11.851763 ,\n",
       "         -15.176225 ,   -4.9920087],\n",
       "       [-323.65854  ,  179.23412  ,    1.1058046, ...,   -9.87701  ,\n",
       "         -10.156086 ,   -5.597444 ]], dtype=float32)"
      ]
     },
     "execution_count": 20,
     "metadata": {},
     "output_type": "execute_result"
    }
   ],
   "source": [
    "X_train[0]"
   ]
  },
  {
   "cell_type": "code",
   "execution_count": 21,
   "id": "1a3eca2b-a384-493d-b1d9-abf2283f3267",
   "metadata": {},
   "outputs": [
    {
     "data": {
      "text/plain": [
       "(1860, 259, 20)"
      ]
     },
     "execution_count": 21,
     "metadata": {},
     "output_type": "execute_result"
    }
   ],
   "source": [
    "X_train.shape"
   ]
  },
  {
   "cell_type": "code",
   "execution_count": 22,
   "id": "b854ec06-a7d1-4d2d-8da3-516a8ef10a12",
   "metadata": {},
   "outputs": [],
   "source": [
    "img_height, img_width = X_train.shape[1], X_train.shape[2]\n",
    "X_train_img = X_train.reshape(X_train.shape[0], img_height, img_width, 1)\n",
    "X_test_img = X_test.reshape(X_test.shape[0], img_height, img_width, 1)"
   ]
  },
  {
   "cell_type": "code",
   "execution_count": 23,
   "id": "7bdf63b9-b11e-4fc7-a54a-fdd83047fe33",
   "metadata": {},
   "outputs": [
    {
     "data": {
      "text/plain": [
       "(1860, 259, 20, 1)"
      ]
     },
     "execution_count": 23,
     "metadata": {},
     "output_type": "execute_result"
    }
   ],
   "source": [
    "X_train_img.shape"
   ]
  },
  {
   "cell_type": "code",
   "execution_count": 24,
   "id": "fe3b274e-c631-4fdd-add2-b141589e5ea4",
   "metadata": {},
   "outputs": [
    {
     "data": {
      "text/plain": [
       "array([2, 3, 3, ..., 3, 3, 3])"
      ]
     },
     "execution_count": 24,
     "metadata": {},
     "output_type": "execute_result"
    }
   ],
   "source": [
    "y_train"
   ]
  },
  {
   "cell_type": "code",
   "execution_count": 25,
   "id": "875e124d-e58b-4e78-9b57-ee5bf15a34b8",
   "metadata": {},
   "outputs": [
    {
     "data": {
      "text/plain": [
       "(1860,)"
      ]
     },
     "execution_count": 25,
     "metadata": {},
     "output_type": "execute_result"
    }
   ],
   "source": [
    "y_train.shape"
   ]
  },
  {
   "cell_type": "code",
   "execution_count": 26,
   "id": "fb7cef25-f638-47dd-85c3-edfb2fd1c5dc",
   "metadata": {},
   "outputs": [],
   "source": [
    "# models"
   ]
  },
  {
   "cell_type": "code",
   "execution_count": 27,
   "id": "a566e44a-d12f-434a-a0da-8db1920fcfd0",
   "metadata": {},
   "outputs": [],
   "source": [
    "from datetime import datetime "
   ]
  },
  {
   "cell_type": "code",
   "execution_count": 28,
   "id": "1aa11341-fa14-4663-8988-8b4c66f264c6",
   "metadata": {},
   "outputs": [],
   "source": [
    "from keras import backend as keras_backend\n",
    "from keras.models import Sequential, load_model\n",
    "from keras.layers import Dense, SpatialDropout2D, Activation, Conv2D, MaxPooling2D, BatchNormalization, GlobalAveragePooling2D, LeakyReLU\n",
    "from keras.optimizers import Adam\n",
    "from keras.utils import to_categorical\n",
    "from keras.callbacks import ModelCheckpoint \n",
    "from keras.regularizers import l2"
   ]
  },
  {
   "cell_type": "code",
   "execution_count": 29,
   "id": "0add64d4-268e-4a6d-b9c8-dc4b23d7bfaf",
   "metadata": {},
   "outputs": [],
   "source": [
    "from tensorflow.keras.models import Sequential\n",
    "from tensorflow.keras.layers import Dense, Flatten, Conv2D, MaxPooling2D, BatchNormalization, Input, Dropout\n",
    "from scikeras.wrappers import KerasClassifier"
   ]
  },
  {
   "cell_type": "code",
   "execution_count": 30,
   "id": "db99b37b-89ea-48ad-83fe-f3316086e221",
   "metadata": {},
   "outputs": [],
   "source": [
    "from sklearn.model_selection import cross_val_score\n",
    "from sklearn.metrics import accuracy_score\n",
    "from sklearn.metrics import precision_score\n",
    "from sklearn.metrics import f1_score\n",
    "from sklearn.metrics import recall_score\n",
    "from sklearn.metrics import classification_report"
   ]
  },
  {
   "cell_type": "code",
   "execution_count": 31,
   "id": "e7138c6b-a709-412a-93e1-0effd898527a",
   "metadata": {},
   "outputs": [],
   "source": [
    "from sklearn.metrics import ConfusionMatrixDisplay\n",
    "from sklearn.model_selection import cross_val_predict"
   ]
  },
  {
   "cell_type": "code",
   "execution_count": 32,
   "id": "09501ff5-3c46-4024-98bf-05f1685d481d",
   "metadata": {},
   "outputs": [
    {
     "data": {
      "text/plain": [
       "array(['acoustic_guitar', 'cello', 'piano', 'violin'], dtype='<U15')"
      ]
     },
     "execution_count": 32,
     "metadata": {},
     "output_type": "execute_result"
    }
   ],
   "source": [
    "display_labels = label_encoder.classes_\n",
    "display_labels"
   ]
  },
  {
   "cell_type": "code",
   "execution_count": 33,
   "id": "079c1488-5b92-4d41-b3b1-3e0a0cddc3cd",
   "metadata": {},
   "outputs": [],
   "source": [
    "# cnn"
   ]
  },
  {
   "cell_type": "code",
   "execution_count": 34,
   "id": "86a9d1a4-de45-4f5f-b753-88e6214c0450",
   "metadata": {},
   "outputs": [],
   "source": [
    "# !pip install hyperopt --user"
   ]
  },
  {
   "cell_type": "code",
   "execution_count": 37,
   "id": "6b07cf31-810c-4bea-8045-72f2cb8b2804",
   "metadata": {},
   "outputs": [],
   "source": [
    "def getModel():\n",
    "    model = Sequential()\n",
    "    model.add(Input(shape=(img_height, img_width, 1)))\n",
    "    model.add(Conv2D(32, 3, strides=2, padding='same', activation='relu'))\n",
    "    model.add(BatchNormalization())\n",
    "    model.add(MaxPooling2D(pool_size=(2, 2)))\n",
    "    model.add(BatchNormalization())\n",
    "    model.add(Conv2D(64, 3, padding='same', activation='relu'))\n",
    "    model.add(BatchNormalization())\n",
    "    model.add(MaxPooling2D(pool_size=(2, 2)))\n",
    "    model.add(BatchNormalization())\n",
    "    model.add(Conv2D(128, 3, padding='same', activation='relu'))\n",
    "    model.add(BatchNormalization())\n",
    "    model.add(MaxPooling2D(pool_size=(2, 2)))\n",
    "    model.add(BatchNormalization())\n",
    "    model.add(Flatten())\n",
    "    model.add(Dense(256, activation='relu'))\n",
    "    model.add(BatchNormalization())\n",
    "    model.add(Dropout(0.5))\n",
    "    model.add(Dense(num_labels, activation='softmax'))\n",
    "    \n",
    "    return model"
   ]
  },
  {
   "cell_type": "code",
   "execution_count": 38,
   "id": "41974a9a-777c-4294-aa51-641ba483ee75",
   "metadata": {},
   "outputs": [],
   "source": [
    "num_epochs = 10\n",
    "num_batch_size = 32\n",
    "\n",
    "model_cnn = KerasClassifier(model=getModel, verbose=1, optimizer='adam', loss='sparse_categorical_crossentropy',epochs=num_epochs, batch_size=num_batch_size, metrics=['accuracy'])"
   ]
  },
  {
   "cell_type": "code",
   "execution_count": 39,
   "id": "2a82e4fb-2151-4a26-a118-c14ccd380cdb",
   "metadata": {},
   "outputs": [
    {
     "data": {
      "text/html": [
       "<style>#sk-container-id-1 {\n",
       "  /* Definition of color scheme common for light and dark mode */\n",
       "  --sklearn-color-text: black;\n",
       "  --sklearn-color-line: gray;\n",
       "  /* Definition of color scheme for unfitted estimators */\n",
       "  --sklearn-color-unfitted-level-0: #fff5e6;\n",
       "  --sklearn-color-unfitted-level-1: #f6e4d2;\n",
       "  --sklearn-color-unfitted-level-2: #ffe0b3;\n",
       "  --sklearn-color-unfitted-level-3: chocolate;\n",
       "  /* Definition of color scheme for fitted estimators */\n",
       "  --sklearn-color-fitted-level-0: #f0f8ff;\n",
       "  --sklearn-color-fitted-level-1: #d4ebff;\n",
       "  --sklearn-color-fitted-level-2: #b3dbfd;\n",
       "  --sklearn-color-fitted-level-3: cornflowerblue;\n",
       "\n",
       "  /* Specific color for light theme */\n",
       "  --sklearn-color-text-on-default-background: var(--sg-text-color, var(--theme-code-foreground, var(--jp-content-font-color1, black)));\n",
       "  --sklearn-color-background: var(--sg-background-color, var(--theme-background, var(--jp-layout-color0, white)));\n",
       "  --sklearn-color-border-box: var(--sg-text-color, var(--theme-code-foreground, var(--jp-content-font-color1, black)));\n",
       "  --sklearn-color-icon: #696969;\n",
       "\n",
       "  @media (prefers-color-scheme: dark) {\n",
       "    /* Redefinition of color scheme for dark theme */\n",
       "    --sklearn-color-text-on-default-background: var(--sg-text-color, var(--theme-code-foreground, var(--jp-content-font-color1, white)));\n",
       "    --sklearn-color-background: var(--sg-background-color, var(--theme-background, var(--jp-layout-color0, #111)));\n",
       "    --sklearn-color-border-box: var(--sg-text-color, var(--theme-code-foreground, var(--jp-content-font-color1, white)));\n",
       "    --sklearn-color-icon: #878787;\n",
       "  }\n",
       "}\n",
       "\n",
       "#sk-container-id-1 {\n",
       "  color: var(--sklearn-color-text);\n",
       "}\n",
       "\n",
       "#sk-container-id-1 pre {\n",
       "  padding: 0;\n",
       "}\n",
       "\n",
       "#sk-container-id-1 input.sk-hidden--visually {\n",
       "  border: 0;\n",
       "  clip: rect(1px 1px 1px 1px);\n",
       "  clip: rect(1px, 1px, 1px, 1px);\n",
       "  height: 1px;\n",
       "  margin: -1px;\n",
       "  overflow: hidden;\n",
       "  padding: 0;\n",
       "  position: absolute;\n",
       "  width: 1px;\n",
       "}\n",
       "\n",
       "#sk-container-id-1 div.sk-dashed-wrapped {\n",
       "  border: 1px dashed var(--sklearn-color-line);\n",
       "  margin: 0 0.4em 0.5em 0.4em;\n",
       "  box-sizing: border-box;\n",
       "  padding-bottom: 0.4em;\n",
       "  background-color: var(--sklearn-color-background);\n",
       "}\n",
       "\n",
       "#sk-container-id-1 div.sk-container {\n",
       "  /* jupyter's `normalize.less` sets `[hidden] { display: none; }`\n",
       "     but bootstrap.min.css set `[hidden] { display: none !important; }`\n",
       "     so we also need the `!important` here to be able to override the\n",
       "     default hidden behavior on the sphinx rendered scikit-learn.org.\n",
       "     See: https://github.com/scikit-learn/scikit-learn/issues/21755 */\n",
       "  display: inline-block !important;\n",
       "  position: relative;\n",
       "}\n",
       "\n",
       "#sk-container-id-1 div.sk-text-repr-fallback {\n",
       "  display: none;\n",
       "}\n",
       "\n",
       "div.sk-parallel-item,\n",
       "div.sk-serial,\n",
       "div.sk-item {\n",
       "  /* draw centered vertical line to link estimators */\n",
       "  background-image: linear-gradient(var(--sklearn-color-text-on-default-background), var(--sklearn-color-text-on-default-background));\n",
       "  background-size: 2px 100%;\n",
       "  background-repeat: no-repeat;\n",
       "  background-position: center center;\n",
       "}\n",
       "\n",
       "/* Parallel-specific style estimator block */\n",
       "\n",
       "#sk-container-id-1 div.sk-parallel-item::after {\n",
       "  content: \"\";\n",
       "  width: 100%;\n",
       "  border-bottom: 2px solid var(--sklearn-color-text-on-default-background);\n",
       "  flex-grow: 1;\n",
       "}\n",
       "\n",
       "#sk-container-id-1 div.sk-parallel {\n",
       "  display: flex;\n",
       "  align-items: stretch;\n",
       "  justify-content: center;\n",
       "  background-color: var(--sklearn-color-background);\n",
       "  position: relative;\n",
       "}\n",
       "\n",
       "#sk-container-id-1 div.sk-parallel-item {\n",
       "  display: flex;\n",
       "  flex-direction: column;\n",
       "}\n",
       "\n",
       "#sk-container-id-1 div.sk-parallel-item:first-child::after {\n",
       "  align-self: flex-end;\n",
       "  width: 50%;\n",
       "}\n",
       "\n",
       "#sk-container-id-1 div.sk-parallel-item:last-child::after {\n",
       "  align-self: flex-start;\n",
       "  width: 50%;\n",
       "}\n",
       "\n",
       "#sk-container-id-1 div.sk-parallel-item:only-child::after {\n",
       "  width: 0;\n",
       "}\n",
       "\n",
       "/* Serial-specific style estimator block */\n",
       "\n",
       "#sk-container-id-1 div.sk-serial {\n",
       "  display: flex;\n",
       "  flex-direction: column;\n",
       "  align-items: center;\n",
       "  background-color: var(--sklearn-color-background);\n",
       "  padding-right: 1em;\n",
       "  padding-left: 1em;\n",
       "}\n",
       "\n",
       "\n",
       "/* Toggleable style: style used for estimator/Pipeline/ColumnTransformer box that is\n",
       "clickable and can be expanded/collapsed.\n",
       "- Pipeline and ColumnTransformer use this feature and define the default style\n",
       "- Estimators will overwrite some part of the style using the `sk-estimator` class\n",
       "*/\n",
       "\n",
       "/* Pipeline and ColumnTransformer style (default) */\n",
       "\n",
       "#sk-container-id-1 div.sk-toggleable {\n",
       "  /* Default theme specific background. It is overwritten whether we have a\n",
       "  specific estimator or a Pipeline/ColumnTransformer */\n",
       "  background-color: var(--sklearn-color-background);\n",
       "}\n",
       "\n",
       "/* Toggleable label */\n",
       "#sk-container-id-1 label.sk-toggleable__label {\n",
       "  cursor: pointer;\n",
       "  display: block;\n",
       "  width: 100%;\n",
       "  margin-bottom: 0;\n",
       "  padding: 0.5em;\n",
       "  box-sizing: border-box;\n",
       "  text-align: center;\n",
       "}\n",
       "\n",
       "#sk-container-id-1 label.sk-toggleable__label-arrow:before {\n",
       "  /* Arrow on the left of the label */\n",
       "  content: \"▸\";\n",
       "  float: left;\n",
       "  margin-right: 0.25em;\n",
       "  color: var(--sklearn-color-icon);\n",
       "}\n",
       "\n",
       "#sk-container-id-1 label.sk-toggleable__label-arrow:hover:before {\n",
       "  color: var(--sklearn-color-text);\n",
       "}\n",
       "\n",
       "/* Toggleable content - dropdown */\n",
       "\n",
       "#sk-container-id-1 div.sk-toggleable__content {\n",
       "  max-height: 0;\n",
       "  max-width: 0;\n",
       "  overflow: hidden;\n",
       "  text-align: left;\n",
       "  /* unfitted */\n",
       "  background-color: var(--sklearn-color-unfitted-level-0);\n",
       "}\n",
       "\n",
       "#sk-container-id-1 div.sk-toggleable__content.fitted {\n",
       "  /* fitted */\n",
       "  background-color: var(--sklearn-color-fitted-level-0);\n",
       "}\n",
       "\n",
       "#sk-container-id-1 div.sk-toggleable__content pre {\n",
       "  margin: 0.2em;\n",
       "  border-radius: 0.25em;\n",
       "  color: var(--sklearn-color-text);\n",
       "  /* unfitted */\n",
       "  background-color: var(--sklearn-color-unfitted-level-0);\n",
       "}\n",
       "\n",
       "#sk-container-id-1 div.sk-toggleable__content.fitted pre {\n",
       "  /* unfitted */\n",
       "  background-color: var(--sklearn-color-fitted-level-0);\n",
       "}\n",
       "\n",
       "#sk-container-id-1 input.sk-toggleable__control:checked~div.sk-toggleable__content {\n",
       "  /* Expand drop-down */\n",
       "  max-height: 200px;\n",
       "  max-width: 100%;\n",
       "  overflow: auto;\n",
       "}\n",
       "\n",
       "#sk-container-id-1 input.sk-toggleable__control:checked~label.sk-toggleable__label-arrow:before {\n",
       "  content: \"▾\";\n",
       "}\n",
       "\n",
       "/* Pipeline/ColumnTransformer-specific style */\n",
       "\n",
       "#sk-container-id-1 div.sk-label input.sk-toggleable__control:checked~label.sk-toggleable__label {\n",
       "  color: var(--sklearn-color-text);\n",
       "  background-color: var(--sklearn-color-unfitted-level-2);\n",
       "}\n",
       "\n",
       "#sk-container-id-1 div.sk-label.fitted input.sk-toggleable__control:checked~label.sk-toggleable__label {\n",
       "  background-color: var(--sklearn-color-fitted-level-2);\n",
       "}\n",
       "\n",
       "/* Estimator-specific style */\n",
       "\n",
       "/* Colorize estimator box */\n",
       "#sk-container-id-1 div.sk-estimator input.sk-toggleable__control:checked~label.sk-toggleable__label {\n",
       "  /* unfitted */\n",
       "  background-color: var(--sklearn-color-unfitted-level-2);\n",
       "}\n",
       "\n",
       "#sk-container-id-1 div.sk-estimator.fitted input.sk-toggleable__control:checked~label.sk-toggleable__label {\n",
       "  /* fitted */\n",
       "  background-color: var(--sklearn-color-fitted-level-2);\n",
       "}\n",
       "\n",
       "#sk-container-id-1 div.sk-label label.sk-toggleable__label,\n",
       "#sk-container-id-1 div.sk-label label {\n",
       "  /* The background is the default theme color */\n",
       "  color: var(--sklearn-color-text-on-default-background);\n",
       "}\n",
       "\n",
       "/* On hover, darken the color of the background */\n",
       "#sk-container-id-1 div.sk-label:hover label.sk-toggleable__label {\n",
       "  color: var(--sklearn-color-text);\n",
       "  background-color: var(--sklearn-color-unfitted-level-2);\n",
       "}\n",
       "\n",
       "/* Label box, darken color on hover, fitted */\n",
       "#sk-container-id-1 div.sk-label.fitted:hover label.sk-toggleable__label.fitted {\n",
       "  color: var(--sklearn-color-text);\n",
       "  background-color: var(--sklearn-color-fitted-level-2);\n",
       "}\n",
       "\n",
       "/* Estimator label */\n",
       "\n",
       "#sk-container-id-1 div.sk-label label {\n",
       "  font-family: monospace;\n",
       "  font-weight: bold;\n",
       "  display: inline-block;\n",
       "  line-height: 1.2em;\n",
       "}\n",
       "\n",
       "#sk-container-id-1 div.sk-label-container {\n",
       "  text-align: center;\n",
       "}\n",
       "\n",
       "/* Estimator-specific */\n",
       "#sk-container-id-1 div.sk-estimator {\n",
       "  font-family: monospace;\n",
       "  border: 1px dotted var(--sklearn-color-border-box);\n",
       "  border-radius: 0.25em;\n",
       "  box-sizing: border-box;\n",
       "  margin-bottom: 0.5em;\n",
       "  /* unfitted */\n",
       "  background-color: var(--sklearn-color-unfitted-level-0);\n",
       "}\n",
       "\n",
       "#sk-container-id-1 div.sk-estimator.fitted {\n",
       "  /* fitted */\n",
       "  background-color: var(--sklearn-color-fitted-level-0);\n",
       "}\n",
       "\n",
       "/* on hover */\n",
       "#sk-container-id-1 div.sk-estimator:hover {\n",
       "  /* unfitted */\n",
       "  background-color: var(--sklearn-color-unfitted-level-2);\n",
       "}\n",
       "\n",
       "#sk-container-id-1 div.sk-estimator.fitted:hover {\n",
       "  /* fitted */\n",
       "  background-color: var(--sklearn-color-fitted-level-2);\n",
       "}\n",
       "\n",
       "/* Specification for estimator info (e.g. \"i\" and \"?\") */\n",
       "\n",
       "/* Common style for \"i\" and \"?\" */\n",
       "\n",
       ".sk-estimator-doc-link,\n",
       "a:link.sk-estimator-doc-link,\n",
       "a:visited.sk-estimator-doc-link {\n",
       "  float: right;\n",
       "  font-size: smaller;\n",
       "  line-height: 1em;\n",
       "  font-family: monospace;\n",
       "  background-color: var(--sklearn-color-background);\n",
       "  border-radius: 1em;\n",
       "  height: 1em;\n",
       "  width: 1em;\n",
       "  text-decoration: none !important;\n",
       "  margin-left: 1ex;\n",
       "  /* unfitted */\n",
       "  border: var(--sklearn-color-unfitted-level-1) 1pt solid;\n",
       "  color: var(--sklearn-color-unfitted-level-1);\n",
       "}\n",
       "\n",
       ".sk-estimator-doc-link.fitted,\n",
       "a:link.sk-estimator-doc-link.fitted,\n",
       "a:visited.sk-estimator-doc-link.fitted {\n",
       "  /* fitted */\n",
       "  border: var(--sklearn-color-fitted-level-1) 1pt solid;\n",
       "  color: var(--sklearn-color-fitted-level-1);\n",
       "}\n",
       "\n",
       "/* On hover */\n",
       "div.sk-estimator:hover .sk-estimator-doc-link:hover,\n",
       ".sk-estimator-doc-link:hover,\n",
       "div.sk-label-container:hover .sk-estimator-doc-link:hover,\n",
       ".sk-estimator-doc-link:hover {\n",
       "  /* unfitted */\n",
       "  background-color: var(--sklearn-color-unfitted-level-3);\n",
       "  color: var(--sklearn-color-background);\n",
       "  text-decoration: none;\n",
       "}\n",
       "\n",
       "div.sk-estimator.fitted:hover .sk-estimator-doc-link.fitted:hover,\n",
       ".sk-estimator-doc-link.fitted:hover,\n",
       "div.sk-label-container:hover .sk-estimator-doc-link.fitted:hover,\n",
       ".sk-estimator-doc-link.fitted:hover {\n",
       "  /* fitted */\n",
       "  background-color: var(--sklearn-color-fitted-level-3);\n",
       "  color: var(--sklearn-color-background);\n",
       "  text-decoration: none;\n",
       "}\n",
       "\n",
       "/* Span, style for the box shown on hovering the info icon */\n",
       ".sk-estimator-doc-link span {\n",
       "  display: none;\n",
       "  z-index: 9999;\n",
       "  position: relative;\n",
       "  font-weight: normal;\n",
       "  right: .2ex;\n",
       "  padding: .5ex;\n",
       "  margin: .5ex;\n",
       "  width: min-content;\n",
       "  min-width: 20ex;\n",
       "  max-width: 50ex;\n",
       "  color: var(--sklearn-color-text);\n",
       "  box-shadow: 2pt 2pt 4pt #999;\n",
       "  /* unfitted */\n",
       "  background: var(--sklearn-color-unfitted-level-0);\n",
       "  border: .5pt solid var(--sklearn-color-unfitted-level-3);\n",
       "}\n",
       "\n",
       ".sk-estimator-doc-link.fitted span {\n",
       "  /* fitted */\n",
       "  background: var(--sklearn-color-fitted-level-0);\n",
       "  border: var(--sklearn-color-fitted-level-3);\n",
       "}\n",
       "\n",
       ".sk-estimator-doc-link:hover span {\n",
       "  display: block;\n",
       "}\n",
       "\n",
       "/* \"?\"-specific style due to the `<a>` HTML tag */\n",
       "\n",
       "#sk-container-id-1 a.estimator_doc_link {\n",
       "  float: right;\n",
       "  font-size: 1rem;\n",
       "  line-height: 1em;\n",
       "  font-family: monospace;\n",
       "  background-color: var(--sklearn-color-background);\n",
       "  border-radius: 1rem;\n",
       "  height: 1rem;\n",
       "  width: 1rem;\n",
       "  text-decoration: none;\n",
       "  /* unfitted */\n",
       "  color: var(--sklearn-color-unfitted-level-1);\n",
       "  border: var(--sklearn-color-unfitted-level-1) 1pt solid;\n",
       "}\n",
       "\n",
       "#sk-container-id-1 a.estimator_doc_link.fitted {\n",
       "  /* fitted */\n",
       "  border: var(--sklearn-color-fitted-level-1) 1pt solid;\n",
       "  color: var(--sklearn-color-fitted-level-1);\n",
       "}\n",
       "\n",
       "/* On hover */\n",
       "#sk-container-id-1 a.estimator_doc_link:hover {\n",
       "  /* unfitted */\n",
       "  background-color: var(--sklearn-color-unfitted-level-3);\n",
       "  color: var(--sklearn-color-background);\n",
       "  text-decoration: none;\n",
       "}\n",
       "\n",
       "#sk-container-id-1 a.estimator_doc_link.fitted:hover {\n",
       "  /* fitted */\n",
       "  background-color: var(--sklearn-color-fitted-level-3);\n",
       "}\n",
       "</style><div id=\"sk-container-id-1\" class=\"sk-top-container\"><div class=\"sk-text-repr-fallback\"><pre>KerasClassifier(\n",
       "\tmodel=&lt;function getModel at 0x175884a60&gt;\n",
       "\tbuild_fn=None\n",
       "\twarm_start=False\n",
       "\trandom_state=None\n",
       "\toptimizer=adam\n",
       "\tloss=sparse_categorical_crossentropy\n",
       "\tmetrics=[&#x27;accuracy&#x27;]\n",
       "\tbatch_size=32\n",
       "\tvalidation_batch_size=None\n",
       "\tverbose=1\n",
       "\tcallbacks=None\n",
       "\tvalidation_split=0.0\n",
       "\tshuffle=True\n",
       "\trun_eagerly=False\n",
       "\tepochs=10\n",
       "\tclass_weight=None\n",
       ")</pre><b>In a Jupyter environment, please rerun this cell to show the HTML representation or trust the notebook. <br />On GitHub, the HTML representation is unable to render, please try loading this page with nbviewer.org.</b></div><div class=\"sk-container\" hidden><div class=\"sk-item\"><div class=\"sk-estimator  sk-toggleable\"><input class=\"sk-toggleable__control sk-hidden--visually\" id=\"sk-estimator-id-1\" type=\"checkbox\" checked><label for=\"sk-estimator-id-1\" class=\"sk-toggleable__label  sk-toggleable__label-arrow \">&nbsp;KerasClassifier<span class=\"sk-estimator-doc-link \">i<span>Not fitted</span></span></label><div class=\"sk-toggleable__content \"><pre>KerasClassifier(\n",
       "\tmodel=&lt;function getModel at 0x175884a60&gt;\n",
       "\tbuild_fn=None\n",
       "\twarm_start=False\n",
       "\trandom_state=None\n",
       "\toptimizer=adam\n",
       "\tloss=sparse_categorical_crossentropy\n",
       "\tmetrics=[&#x27;accuracy&#x27;]\n",
       "\tbatch_size=32\n",
       "\tvalidation_batch_size=None\n",
       "\tverbose=1\n",
       "\tcallbacks=None\n",
       "\tvalidation_split=0.0\n",
       "\tshuffle=True\n",
       "\trun_eagerly=False\n",
       "\tepochs=10\n",
       "\tclass_weight=None\n",
       ")</pre></div> </div></div></div></div>"
      ],
      "text/plain": [
       "KerasClassifier(\n",
       "\tmodel=<function getModel at 0x175884a60>\n",
       "\tbuild_fn=None\n",
       "\twarm_start=False\n",
       "\trandom_state=None\n",
       "\toptimizer=adam\n",
       "\tloss=sparse_categorical_crossentropy\n",
       "\tmetrics=['accuracy']\n",
       "\tbatch_size=32\n",
       "\tvalidation_batch_size=None\n",
       "\tverbose=1\n",
       "\tcallbacks=None\n",
       "\tvalidation_split=0.0\n",
       "\tshuffle=True\n",
       "\trun_eagerly=False\n",
       "\tepochs=10\n",
       "\tclass_weight=None\n",
       ")"
      ]
     },
     "execution_count": 39,
     "metadata": {},
     "output_type": "execute_result"
    }
   ],
   "source": [
    "model_cnn"
   ]
  },
  {
   "cell_type": "code",
   "execution_count": 40,
   "id": "9c5ec20f-c077-4af8-a3ef-a7f29aa898cb",
   "metadata": {
    "tags": []
   },
   "outputs": [
    {
     "name": "stderr",
     "output_type": "stream",
     "text": [
      "2024-02-04 13:35:50.368986: I metal_plugin/src/device/metal_device.cc:1154] Metal device set to: Apple M1\n",
      "2024-02-04 13:35:50.369012: I metal_plugin/src/device/metal_device.cc:296] systemMemory: 16.00 GB\n",
      "2024-02-04 13:35:50.369019: I metal_plugin/src/device/metal_device.cc:313] maxCacheSize: 5.33 GB\n",
      "2024-02-04 13:35:50.369050: I tensorflow/core/common_runtime/pluggable_device/pluggable_device_factory.cc:306] Could not identify NUMA node of platform GPU ID 0, defaulting to 0. Your kernel may not have been built with NUMA support.\n",
      "2024-02-04 13:35:50.369063: I tensorflow/core/common_runtime/pluggable_device/pluggable_device_factory.cc:272] Created TensorFlow device (/job:localhost/replica:0/task:0/device:GPU:0 with 0 MB memory) -> physical PluggableDevice (device: 0, name: METAL, pci bus id: <undefined>)\n"
     ]
    },
    {
     "name": "stdout",
     "output_type": "stream",
     "text": [
      "Epoch 1/10\n"
     ]
    },
    {
     "name": "stderr",
     "output_type": "stream",
     "text": [
      "2024-02-04 13:35:50.963774: I tensorflow/core/grappler/optimizers/custom_graph_optimizer_registry.cc:117] Plugin optimizer for device_type GPU is enabled.\n"
     ]
    },
    {
     "name": "stdout",
     "output_type": "stream",
     "text": [
      "59/59 [==============================] - 3s 30ms/step - loss: 1.4466 - accuracy: 0.5312 - val_loss: 2.8640 - val_accuracy: 0.3476\n",
      "Epoch 2/10\n",
      "59/59 [==============================] - 1s 19ms/step - loss: 0.9432 - accuracy: 0.6462 - val_loss: 0.9031 - val_accuracy: 0.6545\n",
      "Epoch 3/10\n",
      "59/59 [==============================] - 1s 20ms/step - loss: 0.8126 - accuracy: 0.6930 - val_loss: 0.8655 - val_accuracy: 0.6481\n",
      "Epoch 4/10\n",
      "59/59 [==============================] - 1s 21ms/step - loss: 0.6497 - accuracy: 0.7629 - val_loss: 0.8148 - val_accuracy: 0.7017\n",
      "Epoch 5/10\n",
      "59/59 [==============================] - 1s 20ms/step - loss: 0.6047 - accuracy: 0.7812 - val_loss: 0.7796 - val_accuracy: 0.6888\n",
      "Epoch 6/10\n",
      "59/59 [==============================] - 1s 21ms/step - loss: 0.5051 - accuracy: 0.8091 - val_loss: 0.9204 - val_accuracy: 0.6674\n",
      "Epoch 7/10\n",
      "59/59 [==============================] - 1s 20ms/step - loss: 0.4891 - accuracy: 0.8177 - val_loss: 0.8448 - val_accuracy: 0.6996\n",
      "Epoch 8/10\n",
      "59/59 [==============================] - 1s 20ms/step - loss: 0.4009 - accuracy: 0.8640 - val_loss: 0.7112 - val_accuracy: 0.7382\n",
      "Epoch 9/10\n",
      "59/59 [==============================] - 1s 22ms/step - loss: 0.3945 - accuracy: 0.8554 - val_loss: 0.8664 - val_accuracy: 0.6738\n",
      "Epoch 10/10\n",
      "59/59 [==============================] - 1s 21ms/step - loss: 0.3221 - accuracy: 0.8871 - val_loss: 0.6814 - val_accuracy: 0.7618\n",
      "Training completed in time:  0:00:13.727936\n"
     ]
    }
   ],
   "source": [
    "start = datetime.now()\n",
    "\n",
    "final_model_cnn = model_cnn.fit(X_train_img, y_train, validation_data=(X_test_img, y_test), verbose=1)\n",
    "\n",
    "duration = datetime.now() - start\n",
    "print(\"Training completed in time: \", duration)"
   ]
  },
  {
   "cell_type": "code",
   "execution_count": 41,
   "id": "e18175f9-de09-4c6a-ab84-47c44ba13765",
   "metadata": {},
   "outputs": [
    {
     "data": {
      "text/plain": [
       "<matplotlib.legend.Legend at 0x2a1c90670>"
      ]
     },
     "execution_count": 41,
     "metadata": {},
     "output_type": "execute_result"
    },
    {
     "data": {
      "image/png": "[encoded data removed]",
      "text/plain": [
       "<Figure size 640x480 with 1 Axes>"
      ]
     },
     "metadata": {},
     "output_type": "display_data"
    }
   ],
   "source": [
    "plt.plot(final_model_cnn.history_['accuracy'], label='accuracy')\n",
    "plt.plot(final_model_cnn.history_['val_accuracy'], label = 'val_accuracy')\n",
    "plt.xlabel('Epoch')\n",
    "plt.ylabel('Accuracy')\n",
    "plt.ylim([0, 1])\n",
    "plt.legend(loc='lower right')"
   ]
  },
  {
   "cell_type": "code",
   "execution_count": 42,
   "id": "08d88d8e-b988-4094-aa14-463d9c3f3854",
   "metadata": {},
   "outputs": [],
   "source": [
    "# train"
   ]
  },
  {
   "cell_type": "code",
   "execution_count": 43,
   "id": "6141f1df-b6ab-4560-9da7-4d6a5fc8b90d",
   "metadata": {
    "scrolled": true,
    "tags": []
   },
   "outputs": [
    {
     "name": "stdout",
     "output_type": "stream",
     "text": [
      "Epoch 1/10\n",
      "47/47 [==============================] - 2s 22ms/step - loss: 1.5864 - accuracy: 0.5155\n",
      "Epoch 2/10\n",
      "47/47 [==============================] - 1s 18ms/step - loss: 0.9578 - accuracy: 0.6337\n",
      "Epoch 3/10\n",
      "47/47 [==============================] - 1s 19ms/step - loss: 0.7427 - accuracy: 0.7177\n",
      "Epoch 4/10\n",
      "47/47 [==============================] - 1s 19ms/step - loss: 0.6781 - accuracy: 0.7265\n",
      "Epoch 5/10\n",
      "47/47 [==============================] - 1s 20ms/step - loss: 0.5639 - accuracy: 0.7910\n",
      "Epoch 6/10\n",
      "47/47 [==============================] - 1s 18ms/step - loss: 0.4727 - accuracy: 0.8212\n",
      "Epoch 7/10\n",
      "47/47 [==============================] - 1s 19ms/step - loss: 0.4591 - accuracy: 0.8253\n",
      "Epoch 8/10\n",
      "47/47 [==============================] - 1s 19ms/step - loss: 0.3914 - accuracy: 0.8555\n",
      "Epoch 9/10\n",
      "47/47 [==============================] - 1s 19ms/step - loss: 0.3285 - accuracy: 0.8750\n",
      "Epoch 10/10\n",
      "47/47 [==============================] - 1s 18ms/step - loss: 0.2620 - accuracy: 0.8999\n",
      "12/12 [==============================] - 0s 9ms/step\n",
      "Epoch 1/10\n",
      "47/47 [==============================] - 2s 23ms/step - loss: 1.5486 - accuracy: 0.4987\n",
      "Epoch 2/10\n",
      "47/47 [==============================] - 1s 18ms/step - loss: 0.9669 - accuracy: 0.6351\n",
      "Epoch 3/10\n",
      "47/47 [==============================] - 1s 19ms/step - loss: 0.7800 - accuracy: 0.6962\n",
      "Epoch 4/10\n",
      "47/47 [==============================] - 1s 20ms/step - loss: 0.7021 - accuracy: 0.7507\n",
      "Epoch 5/10\n",
      "47/47 [==============================] - 1s 18ms/step - loss: 0.6246 - accuracy: 0.7628\n",
      "Epoch 6/10\n",
      "47/47 [==============================] - 1s 18ms/step - loss: 0.5487 - accuracy: 0.7957\n",
      "Epoch 7/10\n",
      "47/47 [==============================] - 1s 18ms/step - loss: 0.4515 - accuracy: 0.8421\n",
      "Epoch 8/10\n",
      "47/47 [==============================] - 1s 17ms/step - loss: 0.4095 - accuracy: 0.8448\n",
      "Epoch 9/10\n",
      "47/47 [==============================] - 1s 17ms/step - loss: 0.4075 - accuracy: 0.8522\n",
      "Epoch 10/10\n",
      "47/47 [==============================] - 1s 17ms/step - loss: 0.2828 - accuracy: 0.9052\n",
      "12/12 [==============================] - 0s 8ms/step\n",
      "Epoch 1/10\n",
      "47/47 [==============================] - 2s 23ms/step - loss: 1.5872 - accuracy: 0.4906\n",
      "Epoch 2/10\n",
      "47/47 [==============================] - 1s 19ms/step - loss: 0.9102 - accuracy: 0.6667\n",
      "Epoch 3/10\n",
      "47/47 [==============================] - 1s 18ms/step - loss: 0.6853 - accuracy: 0.7487\n",
      "Epoch 4/10\n",
      "47/47 [==============================] - 1s 19ms/step - loss: 0.6057 - accuracy: 0.7735\n",
      "Epoch 5/10\n",
      "47/47 [==============================] - 1s 19ms/step - loss: 0.5213 - accuracy: 0.8031\n",
      "Epoch 6/10\n",
      "47/47 [==============================] - 1s 19ms/step - loss: 0.4255 - accuracy: 0.8421\n",
      "Epoch 7/10\n",
      "47/47 [==============================] - 1s 20ms/step - loss: 0.3726 - accuracy: 0.8663\n",
      "Epoch 8/10\n",
      "47/47 [==============================] - 1s 20ms/step - loss: 0.3462 - accuracy: 0.8696\n",
      "Epoch 9/10\n",
      "47/47 [==============================] - 1s 19ms/step - loss: 0.3294 - accuracy: 0.8911\n",
      "Epoch 10/10\n",
      "47/47 [==============================] - 1s 19ms/step - loss: 0.1974 - accuracy: 0.9348\n",
      "12/12 [==============================] - 0s 7ms/step\n",
      "Epoch 1/10\n",
      "47/47 [==============================] - 2s 22ms/step - loss: 1.4620 - accuracy: 0.5296\n",
      "Epoch 2/10\n",
      "47/47 [==============================] - 1s 18ms/step - loss: 0.9645 - accuracy: 0.6398\n",
      "Epoch 3/10\n",
      "47/47 [==============================] - 1s 17ms/step - loss: 0.8207 - accuracy: 0.6882\n",
      "Epoch 4/10\n",
      "47/47 [==============================] - 1s 18ms/step - loss: 0.7000 - accuracy: 0.7345\n",
      "Epoch 5/10\n",
      "47/47 [==============================] - 1s 20ms/step - loss: 0.6164 - accuracy: 0.7688\n",
      "Epoch 6/10\n",
      "47/47 [==============================] - 1s 19ms/step - loss: 0.5433 - accuracy: 0.7903\n",
      "Epoch 7/10\n",
      "47/47 [==============================] - 1s 19ms/step - loss: 0.5050 - accuracy: 0.8159\n",
      "Epoch 8/10\n",
      "47/47 [==============================] - 1s 19ms/step - loss: 0.4664 - accuracy: 0.8212\n",
      "Epoch 9/10\n",
      "47/47 [==============================] - 1s 19ms/step - loss: 0.4040 - accuracy: 0.8548\n",
      "Epoch 10/10\n",
      "47/47 [==============================] - 1s 19ms/step - loss: 0.3566 - accuracy: 0.8730\n",
      "12/12 [==============================] - 0s 7ms/step\n",
      "Epoch 1/10\n",
      "47/47 [==============================] - 2s 24ms/step - loss: 1.4939 - accuracy: 0.5101\n",
      "Epoch 2/10\n",
      "47/47 [==============================] - 1s 19ms/step - loss: 0.9796 - accuracy: 0.6223\n",
      "Epoch 3/10\n",
      "47/47 [==============================] - 1s 18ms/step - loss: 0.7993 - accuracy: 0.7077\n",
      "Epoch 4/10\n",
      "47/47 [==============================] - 1s 20ms/step - loss: 0.6644 - accuracy: 0.7520\n",
      "Epoch 5/10\n",
      "47/47 [==============================] - 1s 20ms/step - loss: 0.6411 - accuracy: 0.7641\n",
      "Epoch 6/10\n",
      "47/47 [==============================] - 1s 19ms/step - loss: 0.5387 - accuracy: 0.8091\n",
      "Epoch 7/10\n",
      "47/47 [==============================] - 1s 19ms/step - loss: 0.4899 - accuracy: 0.8112\n",
      "Epoch 8/10\n",
      "47/47 [==============================] - 1s 19ms/step - loss: 0.4161 - accuracy: 0.8461\n",
      "Epoch 9/10\n",
      "47/47 [==============================] - 1s 19ms/step - loss: 0.3371 - accuracy: 0.8810\n",
      "Epoch 10/10\n",
      "47/47 [==============================] - 1s 19ms/step - loss: 0.2760 - accuracy: 0.9059\n",
      "12/12 [==============================] - 0s 7ms/step\n"
     ]
    },
    {
     "data": {
      "text/plain": [
       "array([0.74462366, 0.73924731, 0.73387097, 0.72580645, 0.74193548])"
      ]
     },
     "execution_count": 43,
     "metadata": {},
     "output_type": "execute_result"
    }
   ],
   "source": [
    "from sklearn.model_selection import cross_val_score\n",
    "\n",
    "cv_score_cnn_train = cross_val_score(final_model_cnn, X_train_img, y_train, cv=5, scoring=\"accuracy\", verbose=0)\n",
    "cv_score_cnn_train"
   ]
  },
  {
   "cell_type": "code",
   "execution_count": 44,
   "id": "64ae241b-0dd0-426d-9983-c460ff9b2845",
   "metadata": {},
   "outputs": [
    {
     "name": "stdout",
     "output_type": "stream",
     "text": [
      "Accuracy CNN Train: 0.7370967741935484\n"
     ]
    }
   ],
   "source": [
    "print('Accuracy CNN Train:', cv_score_cnn_train.mean())"
   ]
  },
  {
   "cell_type": "code",
   "execution_count": 45,
   "id": "8741486b-b088-4e70-8279-3d68e98d87c2",
   "metadata": {
    "tags": []
   },
   "outputs": [
    {
     "name": "stdout",
     "output_type": "stream",
     "text": [
      "Epoch 1/10\n",
      "47/47 [==============================] - 2s 25ms/step - loss: 1.4680 - accuracy: 0.5148\n",
      "Epoch 2/10\n",
      "47/47 [==============================] - 1s 20ms/step - loss: 0.9232 - accuracy: 0.6445\n",
      "Epoch 3/10\n",
      "47/47 [==============================] - 1s 19ms/step - loss: 0.7472 - accuracy: 0.7144\n",
      "Epoch 4/10\n",
      "47/47 [==============================] - 1s 20ms/step - loss: 0.6531 - accuracy: 0.7755\n",
      "Epoch 5/10\n",
      "47/47 [==============================] - 1s 18ms/step - loss: 0.5223 - accuracy: 0.8112\n",
      "Epoch 6/10\n",
      "47/47 [==============================] - 1s 18ms/step - loss: 0.4778 - accuracy: 0.8185\n",
      "Epoch 7/10\n",
      "47/47 [==============================] - 1s 18ms/step - loss: 0.3626 - accuracy: 0.8649\n",
      "Epoch 8/10\n",
      "47/47 [==============================] - 1s 18ms/step - loss: 0.3391 - accuracy: 0.8858\n",
      "Epoch 9/10\n",
      "47/47 [==============================] - 1s 17ms/step - loss: 0.2700 - accuracy: 0.9093\n",
      "Epoch 10/10\n",
      "47/47 [==============================] - 1s 17ms/step - loss: 0.2326 - accuracy: 0.9187\n",
      "12/12 [==============================] - 0s 8ms/step\n",
      "Epoch 1/10\n",
      "47/47 [==============================] - 2s 26ms/step - loss: 1.5000 - accuracy: 0.5161\n",
      "Epoch 2/10\n",
      "47/47 [==============================] - 1s 20ms/step - loss: 0.9790 - accuracy: 0.6492\n",
      "Epoch 3/10\n",
      "47/47 [==============================] - 1s 21ms/step - loss: 0.8078 - accuracy: 0.6949\n",
      "Epoch 4/10\n",
      "47/47 [==============================] - 1s 19ms/step - loss: 0.7443 - accuracy: 0.7285\n",
      "Epoch 5/10\n",
      "47/47 [==============================] - 1s 19ms/step - loss: 0.6113 - accuracy: 0.7762\n",
      "Epoch 6/10\n",
      "47/47 [==============================] - 1s 21ms/step - loss: 0.5561 - accuracy: 0.7957\n",
      "Epoch 7/10\n",
      "47/47 [==============================] - 1s 20ms/step - loss: 0.5126 - accuracy: 0.8125\n",
      "Epoch 8/10\n",
      "47/47 [==============================] - 1s 19ms/step - loss: 0.4373 - accuracy: 0.8347\n",
      "Epoch 9/10\n",
      "47/47 [==============================] - 1s 19ms/step - loss: 0.3859 - accuracy: 0.8609\n",
      "Epoch 10/10\n",
      "47/47 [==============================] - 1s 20ms/step - loss: 0.3586 - accuracy: 0.8723\n",
      "12/12 [==============================] - 0s 7ms/step\n",
      "Epoch 1/10\n",
      "47/47 [==============================] - 2s 24ms/step - loss: 1.5571 - accuracy: 0.4987\n",
      "Epoch 2/10\n",
      "47/47 [==============================] - 1s 19ms/step - loss: 0.9748 - accuracy: 0.6512\n",
      "Epoch 3/10\n",
      "47/47 [==============================] - 1s 21ms/step - loss: 0.7821 - accuracy: 0.7050\n",
      "Epoch 4/10\n",
      "47/47 [==============================] - 1s 22ms/step - loss: 0.6566 - accuracy: 0.7473\n",
      "Epoch 5/10\n",
      "47/47 [==============================] - 1s 19ms/step - loss: 0.5685 - accuracy: 0.7870\n",
      "Epoch 6/10\n",
      "47/47 [==============================] - 1s 19ms/step - loss: 0.4849 - accuracy: 0.8233\n",
      "Epoch 7/10\n",
      "47/47 [==============================] - 1s 18ms/step - loss: 0.4270 - accuracy: 0.8448\n",
      "Epoch 8/10\n",
      "47/47 [==============================] - 1s 19ms/step - loss: 0.3240 - accuracy: 0.8810\n",
      "Epoch 9/10\n",
      "47/47 [==============================] - 1s 20ms/step - loss: 0.2874 - accuracy: 0.9066\n",
      "Epoch 10/10\n",
      "47/47 [==============================] - 1s 19ms/step - loss: 0.2320 - accuracy: 0.9173\n",
      "12/12 [==============================] - 0s 10ms/step\n",
      "Epoch 1/10\n",
      "47/47 [==============================] - 2s 26ms/step - loss: 1.5188 - accuracy: 0.5034\n",
      "Epoch 2/10\n",
      "47/47 [==============================] - 1s 20ms/step - loss: 0.9911 - accuracy: 0.6371\n",
      "Epoch 3/10\n",
      "47/47 [==============================] - 1s 21ms/step - loss: 0.7643 - accuracy: 0.7184\n",
      "Epoch 4/10\n",
      "47/47 [==============================] - 1s 20ms/step - loss: 0.6832 - accuracy: 0.7419\n",
      "Epoch 5/10\n",
      "47/47 [==============================] - 1s 21ms/step - loss: 0.5412 - accuracy: 0.7970\n",
      "Epoch 6/10\n",
      "47/47 [==============================] - 1s 20ms/step - loss: 0.5313 - accuracy: 0.8145\n",
      "Epoch 7/10\n",
      "47/47 [==============================] - 1s 19ms/step - loss: 0.5228 - accuracy: 0.8078\n",
      "Epoch 8/10\n",
      "47/47 [==============================] - 1s 19ms/step - loss: 0.4075 - accuracy: 0.8474\n",
      "Epoch 9/10\n",
      "47/47 [==============================] - 1s 19ms/step - loss: 0.3773 - accuracy: 0.8716\n",
      "Epoch 10/10\n",
      "47/47 [==============================] - 1s 20ms/step - loss: 0.2856 - accuracy: 0.9052\n",
      "12/12 [==============================] - 0s 8ms/step\n",
      "Epoch 1/10\n",
      "47/47 [==============================] - 2s 26ms/step - loss: 1.5616 - accuracy: 0.4926\n",
      "Epoch 2/10\n",
      "47/47 [==============================] - 1s 19ms/step - loss: 0.9318 - accuracy: 0.6606\n",
      "Epoch 3/10\n",
      "47/47 [==============================] - 1s 19ms/step - loss: 0.8210 - accuracy: 0.7023\n",
      "Epoch 4/10\n",
      "47/47 [==============================] - 1s 20ms/step - loss: 0.6487 - accuracy: 0.7540\n",
      "Epoch 5/10\n",
      "47/47 [==============================] - 1s 19ms/step - loss: 0.5939 - accuracy: 0.7890\n",
      "Epoch 6/10\n",
      "47/47 [==============================] - 1s 17ms/step - loss: 0.5170 - accuracy: 0.8017\n",
      "Epoch 7/10\n",
      "47/47 [==============================] - 1s 17ms/step - loss: 0.4512 - accuracy: 0.8340\n",
      "Epoch 8/10\n",
      "47/47 [==============================] - 1s 17ms/step - loss: 0.3587 - accuracy: 0.8737\n",
      "Epoch 9/10\n",
      "47/47 [==============================] - 1s 18ms/step - loss: 0.3077 - accuracy: 0.8938\n",
      "Epoch 10/10\n",
      "47/47 [==============================] - 1s 18ms/step - loss: 0.2585 - accuracy: 0.9079\n",
      "12/12 [==============================] - 0s 9ms/step\n"
     ]
    },
    {
     "data": {
      "image/png": "[encoded data removed]",
      "text/plain": [
       "<Figure size 640x480 with 2 Axes>"
      ]
     },
     "metadata": {},
     "output_type": "display_data"
    }
   ],
   "source": [
    "y_train_pred_cnn = cross_val_predict(final_model_cnn, X_train_img, y_train, cv=5, verbose=0)\n",
    "ConfusionMatrixDisplay.from_predictions(y_train, y_train_pred_cnn, normalize=\"true\", values_format=\".0%\", display_labels=display_labels)\n",
    "plt.show()"
   ]
  },
  {
   "cell_type": "code",
   "execution_count": 46,
   "id": "3b87cfc5-e97e-44d8-a01a-4307e5030060",
   "metadata": {},
   "outputs": [],
   "source": [
    "# test"
   ]
  },
  {
   "cell_type": "code",
   "execution_count": 47,
   "id": "65d67124-c47e-4a91-a0a4-fa8e0b83bc50",
   "metadata": {
    "scrolled": true,
    "tags": []
   },
   "outputs": [
    {
     "name": "stdout",
     "output_type": "stream",
     "text": [
      "Epoch 1/10\n",
      "12/12 [==============================] - 2s 64ms/step - loss: 1.6093 - accuracy: 0.4946\n",
      "Epoch 2/10\n",
      "12/12 [==============================] - 0s 26ms/step - loss: 0.9963 - accuracy: 0.6801\n",
      "Epoch 3/10\n",
      "12/12 [==============================] - 0s 24ms/step - loss: 0.9652 - accuracy: 0.7097\n",
      "Epoch 4/10\n",
      "12/12 [==============================] - 0s 19ms/step - loss: 0.5995 - accuracy: 0.7715\n",
      "Epoch 5/10\n",
      "12/12 [==============================] - 0s 22ms/step - loss: 0.5100 - accuracy: 0.8226\n",
      "Epoch 6/10\n",
      "12/12 [==============================] - 0s 20ms/step - loss: 0.4164 - accuracy: 0.8387\n",
      "Epoch 7/10\n",
      "12/12 [==============================] - 0s 21ms/step - loss: 0.2896 - accuracy: 0.8978\n",
      "Epoch 8/10\n",
      "12/12 [==============================] - 0s 20ms/step - loss: 0.3070 - accuracy: 0.8737\n",
      "Epoch 9/10\n",
      "12/12 [==============================] - 0s 20ms/step - loss: 0.2348 - accuracy: 0.9194\n",
      "Epoch 10/10\n",
      "12/12 [==============================] - 0s 20ms/step - loss: 0.1712 - accuracy: 0.9516\n",
      "3/3 [==============================] - 0s 37ms/step\n",
      "Epoch 1/10\n",
      "12/12 [==============================] - 2s 67ms/step - loss: 1.5909 - accuracy: 0.5094\n",
      "Epoch 2/10\n",
      "12/12 [==============================] - 0s 21ms/step - loss: 0.9367 - accuracy: 0.6434\n",
      "Epoch 3/10\n",
      "12/12 [==============================] - 0s 24ms/step - loss: 0.7534 - accuracy: 0.7078\n",
      "Epoch 4/10\n",
      "12/12 [==============================] - 0s 23ms/step - loss: 0.6409 - accuracy: 0.7587\n",
      "Epoch 5/10\n",
      "12/12 [==============================] - 0s 20ms/step - loss: 0.5539 - accuracy: 0.7882\n",
      "Epoch 6/10\n",
      "12/12 [==============================] - 0s 20ms/step - loss: 0.3115 - accuracy: 0.8794\n",
      "Epoch 7/10\n",
      "12/12 [==============================] - 0s 20ms/step - loss: 0.2948 - accuracy: 0.8874\n",
      "Epoch 8/10\n",
      "12/12 [==============================] - 0s 20ms/step - loss: 0.2172 - accuracy: 0.9357\n",
      "Epoch 9/10\n",
      "12/12 [==============================] - 0s 18ms/step - loss: 0.1576 - accuracy: 0.9544\n",
      "Epoch 10/10\n",
      "12/12 [==============================] - 0s 21ms/step - loss: 0.1406 - accuracy: 0.9598\n",
      "3/3 [==============================] - 0s 35ms/step\n",
      "Epoch 1/10\n",
      "12/12 [==============================] - 1s 55ms/step - loss: 1.8217 - accuracy: 0.4558\n",
      "Epoch 2/10\n",
      "12/12 [==============================] - 0s 23ms/step - loss: 0.9042 - accuracy: 0.6595\n",
      "Epoch 3/10\n",
      "12/12 [==============================] - 0s 22ms/step - loss: 0.7138 - accuracy: 0.7024\n",
      "Epoch 4/10\n",
      "12/12 [==============================] - 0s 19ms/step - loss: 0.5774 - accuracy: 0.7802\n",
      "Epoch 5/10\n",
      "12/12 [==============================] - 0s 20ms/step - loss: 0.4489 - accuracy: 0.8231\n",
      "Epoch 6/10\n",
      "12/12 [==============================] - 0s 21ms/step - loss: 0.3482 - accuracy: 0.8820\n",
      "Epoch 7/10\n",
      "12/12 [==============================] - 0s 18ms/step - loss: 0.2381 - accuracy: 0.9196\n",
      "Epoch 8/10\n",
      "12/12 [==============================] - 0s 18ms/step - loss: 0.1801 - accuracy: 0.9357\n",
      "Epoch 9/10\n",
      "12/12 [==============================] - 0s 17ms/step - loss: 0.2389 - accuracy: 0.9169\n",
      "Epoch 10/10\n",
      "12/12 [==============================] - 0s 18ms/step - loss: 0.1445 - accuracy: 0.9598\n",
      "3/3 [==============================] - 0s 24ms/step\n",
      "Epoch 1/10\n",
      "12/12 [==============================] - 1s 48ms/step - loss: 1.8744 - accuracy: 0.3914\n",
      "Epoch 2/10\n",
      "12/12 [==============================] - 0s 26ms/step - loss: 1.0665 - accuracy: 0.5979\n",
      "Epoch 3/10\n",
      "12/12 [==============================] - 0s 21ms/step - loss: 0.7288 - accuracy: 0.7373\n",
      "Epoch 4/10\n",
      "12/12 [==============================] - 0s 21ms/step - loss: 0.5954 - accuracy: 0.7721\n",
      "Epoch 5/10\n",
      "12/12 [==============================] - 0s 19ms/step - loss: 0.4619 - accuracy: 0.8365\n",
      "Epoch 6/10\n",
      "12/12 [==============================] - 0s 23ms/step - loss: 0.3667 - accuracy: 0.8660\n",
      "Epoch 7/10\n",
      "12/12 [==============================] - 0s 23ms/step - loss: 0.2530 - accuracy: 0.9088\n",
      "Epoch 8/10\n",
      "12/12 [==============================] - 0s 21ms/step - loss: 0.2008 - accuracy: 0.9383\n",
      "Epoch 9/10\n",
      "12/12 [==============================] - 0s 20ms/step - loss: 0.1678 - accuracy: 0.9383\n",
      "Epoch 10/10\n",
      "12/12 [==============================] - 0s 19ms/step - loss: 0.1639 - accuracy: 0.9571\n",
      "WARNING:tensorflow:5 out of the last 22 calls to <function Model.make_predict_function.<locals>.predict_function at 0x2d8656040> triggered tf.function retracing. Tracing is expensive and the excessive number of tracings could be due to (1) creating @tf.function repeatedly in a loop, (2) passing tensors with different shapes, (3) passing Python objects instead of tensors. For (1), please define your @tf.function outside of the loop. For (2), @tf.function has reduce_retracing=True option that can avoid unnecessary retracing. For (3), please refer to https://www.tensorflow.org/guide/function#controlling_retracing and https://www.tensorflow.org/api_docs/python/tf/function for  more details.\n",
      "3/3 [==============================] - 0s 29ms/step\n",
      "Epoch 1/10\n",
      "12/12 [==============================] - 1s 50ms/step - loss: 1.6349 - accuracy: 0.4611\n",
      "Epoch 2/10\n",
      "12/12 [==============================] - 0s 21ms/step - loss: 0.8835 - accuracy: 0.6944\n",
      "Epoch 3/10\n",
      "12/12 [==============================] - 0s 20ms/step - loss: 0.6410 - accuracy: 0.7668\n",
      "Epoch 4/10\n",
      "12/12 [==============================] - 0s 21ms/step - loss: 0.6108 - accuracy: 0.7882\n",
      "Epoch 5/10\n",
      "12/12 [==============================] - 0s 21ms/step - loss: 0.3659 - accuracy: 0.8847\n",
      "Epoch 6/10\n",
      "12/12 [==============================] - 0s 20ms/step - loss: 0.3550 - accuracy: 0.8633\n",
      "Epoch 7/10\n",
      "12/12 [==============================] - 0s 20ms/step - loss: 0.3132 - accuracy: 0.8820\n",
      "Epoch 8/10\n",
      "12/12 [==============================] - 0s 20ms/step - loss: 0.2917 - accuracy: 0.8820\n",
      "Epoch 9/10\n",
      "12/12 [==============================] - 0s 20ms/step - loss: 0.1969 - accuracy: 0.9276\n",
      "Epoch 10/10\n",
      "12/12 [==============================] - 0s 21ms/step - loss: 0.1384 - accuracy: 0.9598\n",
      "WARNING:tensorflow:5 out of the last 13 calls to <function Model.make_predict_function.<locals>.predict_function at 0x17f9bd820> triggered tf.function retracing. Tracing is expensive and the excessive number of tracings could be due to (1) creating @tf.function repeatedly in a loop, (2) passing tensors with different shapes, (3) passing Python objects instead of tensors. For (1), please define your @tf.function outside of the loop. For (2), @tf.function has reduce_retracing=True option that can avoid unnecessary retracing. For (3), please refer to https://www.tensorflow.org/guide/function#controlling_retracing and https://www.tensorflow.org/api_docs/python/tf/function for  more details.\n",
      "3/3 [==============================] - 0s 34ms/step\n"
     ]
    },
    {
     "data": {
      "text/plain": [
       "array([0.4893617 , 0.6344086 , 0.55913978, 0.64516129, 0.67741935])"
      ]
     },
     "execution_count": 47,
     "metadata": {},
     "output_type": "execute_result"
    }
   ],
   "source": [
    "cv_score_cnn_test = cross_val_score(final_model_cnn, X_test_img, y_test, cv=5, scoring=\"accuracy\", verbose=0)\n",
    "cv_score_cnn_test"
   ]
  },
  {
   "cell_type": "code",
   "execution_count": 48,
   "id": "f26d9ed0-15b4-4953-b061-18e3a0350298",
   "metadata": {},
   "outputs": [
    {
     "name": "stdout",
     "output_type": "stream",
     "text": [
      "Accuracy CNN Test: 0.6010981468771448\n"
     ]
    }
   ],
   "source": [
    "print('Accuracy CNN Test:', cv_score_cnn_test.mean())"
   ]
  },
  {
   "cell_type": "code",
   "execution_count": 49,
   "id": "48031186-ac88-41dd-922b-ff91579f6792",
   "metadata": {
    "tags": []
   },
   "outputs": [
    {
     "name": "stdout",
     "output_type": "stream",
     "text": [
      "Epoch 1/10\n",
      "12/12 [==============================] - 2s 57ms/step - loss: 1.6516 - accuracy: 0.4677\n",
      "Epoch 2/10\n",
      "12/12 [==============================] - 0s 25ms/step - loss: 0.9393 - accuracy: 0.6720\n",
      "Epoch 3/10\n",
      "12/12 [==============================] - 0s 20ms/step - loss: 0.6611 - accuracy: 0.7285\n",
      "Epoch 4/10\n",
      "12/12 [==============================] - 0s 23ms/step - loss: 0.4821 - accuracy: 0.8280\n",
      "Epoch 5/10\n",
      "12/12 [==============================] - 0s 21ms/step - loss: 0.4115 - accuracy: 0.8468\n",
      "Epoch 6/10\n",
      "12/12 [==============================] - 0s 19ms/step - loss: 0.3155 - accuracy: 0.8656\n",
      "Epoch 7/10\n",
      "12/12 [==============================] - 0s 20ms/step - loss: 0.2891 - accuracy: 0.8925\n",
      "Epoch 8/10\n",
      "12/12 [==============================] - 0s 20ms/step - loss: 0.1648 - accuracy: 0.9489\n",
      "Epoch 9/10\n",
      "12/12 [==============================] - 0s 21ms/step - loss: 0.1941 - accuracy: 0.9301\n",
      "Epoch 10/10\n",
      "12/12 [==============================] - 0s 18ms/step - loss: 0.1426 - accuracy: 0.9489\n",
      "3/3 [==============================] - 0s 36ms/step\n",
      "Epoch 1/10\n",
      "12/12 [==============================] - 2s 71ms/step - loss: 1.8372 - accuracy: 0.4424\n",
      "Epoch 2/10\n",
      "12/12 [==============================] - 0s 25ms/step - loss: 0.9398 - accuracy: 0.6300\n",
      "Epoch 3/10\n",
      "12/12 [==============================] - 0s 19ms/step - loss: 0.7643 - accuracy: 0.7185\n",
      "Epoch 4/10\n",
      "12/12 [==============================] - 0s 21ms/step - loss: 0.5525 - accuracy: 0.8150\n",
      "Epoch 5/10\n",
      "12/12 [==============================] - 0s 21ms/step - loss: 0.4096 - accuracy: 0.8418\n",
      "Epoch 6/10\n",
      "12/12 [==============================] - 0s 19ms/step - loss: 0.4119 - accuracy: 0.8499\n",
      "Epoch 7/10\n",
      "12/12 [==============================] - 0s 18ms/step - loss: 0.3183 - accuracy: 0.8874\n",
      "Epoch 8/10\n",
      "12/12 [==============================] - 0s 18ms/step - loss: 0.2302 - accuracy: 0.9062\n",
      "Epoch 9/10\n",
      "12/12 [==============================] - 0s 19ms/step - loss: 0.1963 - accuracy: 0.9357\n",
      "Epoch 10/10\n",
      "12/12 [==============================] - 0s 16ms/step - loss: 0.1477 - accuracy: 0.9571\n",
      "3/3 [==============================] - 0s 26ms/step\n",
      "Epoch 1/10\n",
      "12/12 [==============================] - 2s 69ms/step - loss: 1.7715 - accuracy: 0.4558\n",
      "Epoch 2/10\n",
      "12/12 [==============================] - 0s 33ms/step - loss: 0.8128 - accuracy: 0.6944\n",
      "Epoch 3/10\n",
      "12/12 [==============================] - 0s 26ms/step - loss: 0.7396 - accuracy: 0.7373\n",
      "Epoch 4/10\n",
      "12/12 [==============================] - 0s 22ms/step - loss: 0.5430 - accuracy: 0.7828\n",
      "Epoch 5/10\n",
      "12/12 [==============================] - 0s 23ms/step - loss: 0.3115 - accuracy: 0.8981\n",
      "Epoch 6/10\n",
      "12/12 [==============================] - 0s 21ms/step - loss: 0.2573 - accuracy: 0.9008\n",
      "Epoch 7/10\n",
      "12/12 [==============================] - 0s 21ms/step - loss: 0.2430 - accuracy: 0.9088\n",
      "Epoch 8/10\n",
      "12/12 [==============================] - 0s 21ms/step - loss: 0.1716 - accuracy: 0.9330\n",
      "Epoch 9/10\n",
      "12/12 [==============================] - 0s 19ms/step - loss: 0.1413 - accuracy: 0.9598\n",
      "Epoch 10/10\n",
      "12/12 [==============================] - 0s 23ms/step - loss: 0.1586 - accuracy: 0.9464\n",
      "3/3 [==============================] - 0s 47ms/step\n",
      "Epoch 1/10\n",
      "12/12 [==============================] - 2s 70ms/step - loss: 1.9172 - accuracy: 0.4531\n",
      "Epoch 2/10\n",
      "12/12 [==============================] - 0s 26ms/step - loss: 1.0746 - accuracy: 0.6273\n",
      "Epoch 3/10\n",
      "12/12 [==============================] - 0s 23ms/step - loss: 0.8190 - accuracy: 0.6863\n",
      "Epoch 4/10\n",
      "12/12 [==============================] - 0s 20ms/step - loss: 0.6429 - accuracy: 0.7319\n",
      "Epoch 5/10\n",
      "12/12 [==============================] - 0s 22ms/step - loss: 0.5495 - accuracy: 0.7962\n",
      "Epoch 6/10\n",
      "12/12 [==============================] - 0s 19ms/step - loss: 0.3495 - accuracy: 0.8847\n",
      "Epoch 7/10\n",
      "12/12 [==============================] - 0s 22ms/step - loss: 0.2842 - accuracy: 0.8820\n",
      "Epoch 8/10\n",
      "12/12 [==============================] - 0s 24ms/step - loss: 0.2630 - accuracy: 0.8954\n",
      "Epoch 9/10\n",
      "12/12 [==============================] - 0s 18ms/step - loss: 0.1815 - accuracy: 0.9437\n",
      "Epoch 10/10\n",
      "12/12 [==============================] - 0s 19ms/step - loss: 0.1372 - accuracy: 0.9517\n",
      "3/3 [==============================] - 0s 34ms/step\n",
      "Epoch 1/10\n",
      "12/12 [==============================] - 2s 77ms/step - loss: 1.8503 - accuracy: 0.4531\n",
      "Epoch 2/10\n",
      "12/12 [==============================] - 1s 42ms/step - loss: 1.0026 - accuracy: 0.6542\n",
      "Epoch 3/10\n",
      "12/12 [==============================] - 0s 23ms/step - loss: 0.7049 - accuracy: 0.7158\n",
      "Epoch 4/10\n",
      "12/12 [==============================] - 0s 23ms/step - loss: 0.5495 - accuracy: 0.7855\n",
      "Epoch 5/10\n",
      "12/12 [==============================] - 0s 21ms/step - loss: 0.3815 - accuracy: 0.8525\n",
      "Epoch 6/10\n",
      "12/12 [==============================] - 0s 20ms/step - loss: 0.2822 - accuracy: 0.8928\n",
      "Epoch 7/10\n",
      "12/12 [==============================] - 0s 18ms/step - loss: 0.1960 - accuracy: 0.9357\n",
      "Epoch 8/10\n",
      "12/12 [==============================] - 0s 20ms/step - loss: 0.1552 - accuracy: 0.9464\n",
      "Epoch 9/10\n",
      "12/12 [==============================] - 0s 19ms/step - loss: 0.1721 - accuracy: 0.9437\n",
      "Epoch 10/10\n",
      "12/12 [==============================] - 0s 20ms/step - loss: 0.1146 - accuracy: 0.9651\n",
      "3/3 [==============================] - 0s 33ms/step\n"
     ]
    },
    {
     "data": {
      "image/png": "[encoded data removed]",
      "text/plain": [
       "<Figure size 640x480 with 2 Axes>"
      ]
     },
     "metadata": {},
     "output_type": "display_data"
    }
   ],
   "source": [
    "y_test_pred_cnn = cross_val_predict(final_model_cnn, X_test_img, y_test, cv=5, verbose=0)\n",
    "ConfusionMatrixDisplay.from_predictions(y_test, y_test_pred_cnn, normalize=\"true\", values_format=\".0%\", display_labels=display_labels)\n",
    "plt.show()"
   ]
  },
  {
   "cell_type": "code",
   "execution_count": 50,
   "id": "affcfd62-155e-41d5-8ba9-2dd0b59444a6",
   "metadata": {},
   "outputs": [
    {
     "name": "stdout",
     "output_type": "stream",
     "text": [
      "Accuracy CNN: 0.5472103004291845\n",
      "Precision CNN: 0.5648690175501923\n",
      "F1 score CNN: 0.5295809743030946\n",
      "Recall score CNN: 0.5488005674981963\n"
     ]
    }
   ],
   "source": [
    "model_name = 'CNN'\n",
    "average = 'macro'\n",
    "print(f'Accuracy {model_name}:', accuracy_score(y_test, y_test_pred_cnn))\n",
    "print(f'Precision {model_name}:', precision_score(y_test, y_test_pred_cnn, average=average))\n",
    "print(f'F1 score {model_name}:', f1_score(y_test, y_test_pred_cnn, average=average))\n",
    "print(f'Recall score {model_name}:', recall_score(y_test, y_test_pred_cnn, average=average))"
   ]
  },
  {
   "cell_type": "code",
   "execution_count": 52,
   "id": "db730c38-eda3-476d-8d19-5912ada2dfd7",
   "metadata": {},
   "outputs": [
    {
     "name": "stdout",
     "output_type": "stream",
     "text": [
      "                 precision    recall  f1-score   support\n",
      "\n",
      "acoustic_guitar       0.62      0.66      0.64       126\n",
      "          cello       0.30      0.65      0.41        71\n",
      "          piano       0.89      0.58      0.70       158\n",
      "         violin       0.44      0.31      0.36       111\n",
      "\n",
      "       accuracy                           0.55       466\n",
      "      macro avg       0.56      0.55      0.53       466\n",
      "   weighted avg       0.62      0.55      0.56       466\n",
      "\n"
     ]
    }
   ],
   "source": [
    "re = classification_report(y_test, y_test_pred_cnn, target_names=display_labels)\n",
    "\n",
    "print(re)"
   ]
  },
  {
   "cell_type": "code",
   "execution_count": null,
   "id": "90d7a760-a17f-48a6-b00a-064ff129c576",
   "metadata": {},
   "outputs": [],
   "source": []
  }
 ],
 "metadata": {
  "kernelspec": {
   "display_name": "Python 3 (ipykernel)",
   "language": "python",
   "name": "python3"
  },
  "language_info": {
   "codemirror_mode": {
    "name": "ipython",
    "version": 3
   },
   "file_extension": ".py",
   "mimetype": "text/x-python",
   "name": "python",
   "nbconvert_exporter": "python",
   "pygments_lexer": "ipython3",
   "version": "3.10.7"
  }
 },
 "nbformat": 4,
 "nbformat_minor": 5
}
